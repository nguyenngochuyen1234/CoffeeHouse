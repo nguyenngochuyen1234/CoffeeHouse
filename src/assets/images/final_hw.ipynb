{
  "cells": [
    {
      "source": [
        "It's simple to buy any product with a click and have it delivered to your door. Online shopping has been rapidly evolving over the last few years, making our lives easier. But behind the scenes, e-commerce companies face a complex challenge that needs to be addressed.\n",
        "\n",
        "Uncertainty plays a big role in how the supply chains plan and organize their operations to ensure that the products are delivered on time. These uncertainties can lead to challenges such as stockouts, delayed deliveries, and increased operational costs.\n",
        "\n",
        "You work for the Sales & Operations Planning (S&OP) team at a multinational e-commerce company. They need your help to assist in planning for the upcoming end-of-the-year sales. They want to use your insights to plan for promotional opportunities and manage their inventory. This effort is to ensure they have the right products in stock when needed and ensure their customers are satisfied with the prompt delivery to their doorstep.\n",
        "\n",
        "\n",
        "## The Data\n",
        "\n",
        "You are provided with a sales dataset to use. A summary and preview are provided below.\n",
        "\n",
        "# Online Retail.csv\n",
        "\n",
        "| Column     | Description              |\n",
        "|------------|--------------------------|\n",
        "| `'InvoiceNo'` | A 6-digit number uniquely assigned to each transaction |\n",
        "| `'StockCode'` | A 5-digit number uniquely assigned to each distinct product |\n",
        "| `'Description'` | The product name |\n",
        "| `'Quantity'` | The quantity of each product (item) per transaction |\n",
        "| `'UnitPrice'` | Product price per unit |\n",
        "| `'CustomerID'` | A 5-digit number uniquely assigned to each customer |\n",
        "| `'Country'` | The name of the country where each customer resides |\n",
        "| `'InvoiceDate'` | The day and time when each transaction was generated `\"MM/DD/YYYY\"` |\n",
        "| `'Year'` | The year when each transaction was generated |\n",
        "| `'Month'` | The month when each transaction was generated |\n",
        "| `'Week'` | The week when each transaction was generated (`1`-`52`) |\n",
        "| `'Day'` | The day of the month when each transaction was generated (`1`-`31`) |\n",
        "| `'DayOfWeek'` | The day of the weeke when each transaction was generated <br>(`0` = Monday, `6` = Sunday) |"
      ],
      "metadata": {
        "id": "6918e18a-c248-4929-b552-7aee2057c0eb"
      },
      "id": "6918e18a-c248-4929-b552-7aee2057c0eb",
      "cell_type": "markdown"
    },
    {
      "cell_type": "markdown",
      "source": [
        "**Analyze the Online Retail.csv dataset and build a forecasting model to predict 'Quantity' of products sold.**\n",
        "\n",
        "1. Split the data into two sets based on the splitting date, \"2011-09-25\". All data up to and including this date should be in the training set, while data after this date should be in the test set. Return a pandas DataFrame, pd_daily_train_data, containing, at least, the columns \"Country\", \"StockCode\", \"InvoiceDate\", \"Quantity\".\n",
        "\n",
        "2. Using your test set, calculate the Mean Absolute Error (MAE) for your forecast model for the 'Quantity' sold? Return a double (float) named mae.\n",
        "\n",
        "3. How many units are expected to be sold during the week 39 of 2011? Store as an integer variable called quantity_sold_w39."
      ],
      "metadata": {
        "id": "YEmlg8nP-n6b"
      },
      "id": "YEmlg8nP-n6b"
    },
    {
      "cell_type": "markdown",
      "source": [
        "# SET UP"
      ],
      "metadata": {
        "id": "xkijbKlBnI1J"
      },
      "id": "xkijbKlBnI1J"
    },
    {
      "cell_type": "code",
      "source": [
        "!pip install pyspark"
      ],
      "metadata": {
        "colab": {
          "base_uri": "https://localhost:8080/"
        },
        "id": "TPg9GOfqnNQB",
        "outputId": "525c72bf-b12b-4866-c5e5-12e1208953b1"
      },
      "id": "TPg9GOfqnNQB",
      "execution_count": 1,
      "outputs": [
        {
          "output_type": "stream",
          "name": "stdout",
          "text": [
            "Collecting pyspark\n",
            "  Downloading pyspark-3.5.1.tar.gz (317.0 MB)\n",
            "\u001b[2K     \u001b[90m━━━━━━━━━━━━━━━━━━━━━━━━━━━━━━━━━━━━━━━━\u001b[0m \u001b[32m317.0/317.0 MB\u001b[0m \u001b[31m3.2 MB/s\u001b[0m eta \u001b[36m0:00:00\u001b[0m\n",
            "\u001b[?25h  Preparing metadata (setup.py) ... \u001b[?25l\u001b[?25hdone\n",
            "Requirement already satisfied: py4j==0.10.9.7 in /usr/local/lib/python3.10/dist-packages (from pyspark) (0.10.9.7)\n",
            "Building wheels for collected packages: pyspark\n",
            "  Building wheel for pyspark (setup.py) ... \u001b[?25l\u001b[?25hdone\n",
            "  Created wheel for pyspark: filename=pyspark-3.5.1-py2.py3-none-any.whl size=317488491 sha256=4aa653551ae6b114267881209dd91ca74759a486f550974419816e786bd4cb1b\n",
            "  Stored in directory: /root/.cache/pip/wheels/80/1d/60/2c256ed38dddce2fdd93be545214a63e02fbd8d74fb0b7f3a6\n",
            "Successfully built pyspark\n",
            "Installing collected packages: pyspark\n",
            "Successfully installed pyspark-3.5.1\n"
          ]
        }
      ]
    },
    {
      "cell_type": "code",
      "source": [
        "import pyspark"
      ],
      "metadata": {
        "id": "QtrCZ9AynaFI"
      },
      "id": "QtrCZ9AynaFI",
      "execution_count": 2,
      "outputs": []
    },
    {
      "cell_type": "code",
      "source": [
        "from pyspark.sql import SparkSession\n",
        "from pyspark.sql.functions import *\n",
        "from pyspark.ml import Pipeline\n",
        "from pyspark.ml.feature import StringIndexer, OneHotEncoder, VectorAssembler\n",
        "from pyspark.ml.regression import LinearRegression\n",
        "from pyspark.ml.evaluation import RegressionEvaluator\n",
        "from pyspark.ml.tuning import ParamGridBuilder, CrossValidator"
      ],
      "metadata": {
        "id": "ZVs7AzD0neXb"
      },
      "id": "ZVs7AzD0neXb",
      "execution_count": 3,
      "outputs": []
    },
    {
      "cell_type": "code",
      "source": [
        "spark = SparkSession.builder.appName(\"OnlineRetail\").getOrCreate()"
      ],
      "metadata": {
        "id": "X29gLAP_nfYY"
      },
      "id": "X29gLAP_nfYY",
      "execution_count": 4,
      "outputs": []
    },
    {
      "cell_type": "markdown",
      "source": [
        "# READ DATA"
      ],
      "metadata": {
        "id": "iRgUitqQn6-I"
      },
      "id": "iRgUitqQn6-I"
    },
    {
      "cell_type": "code",
      "source": [
        "df = spark.read.csv('OnlineRetail.csv', header=True, inferSchema=True)\n",
        "df.show(5)"
      ],
      "metadata": {
        "colab": {
          "base_uri": "https://localhost:8080/"
        },
        "id": "bwemssR9n-zR",
        "outputId": "1e14e6d2-fefc-492f-d6b8-1645f82225c0"
      },
      "id": "bwemssR9n-zR",
      "execution_count": 5,
      "outputs": [
        {
          "output_type": "stream",
          "name": "stdout",
          "text": [
            "+---------+---------+--------------------+--------+--------------+---------+----------+--------------+\n",
            "|InvoiceNo|StockCode|         Description|Quantity|   InvoiceDate|UnitPrice|CustomerID|       Country|\n",
            "+---------+---------+--------------------+--------+--------------+---------+----------+--------------+\n",
            "|   536365|   85123A|WHITE HANGING HEA...|       6|12/1/2010 8:26|     2.55|     17850|United Kingdom|\n",
            "|   536365|    71053| WHITE METAL LANTERN|       6|12/1/2010 8:26|     3.39|     17850|United Kingdom|\n",
            "|   536365|   84406B|CREAM CUPID HEART...|       8|12/1/2010 8:26|     2.75|     17850|United Kingdom|\n",
            "|   536365|   84029G|KNITTED UNION FLA...|       6|12/1/2010 8:26|     3.39|     17850|United Kingdom|\n",
            "|   536365|   84029E|RED WOOLLY HOTTIE...|       6|12/1/2010 8:26|     3.39|     17850|United Kingdom|\n",
            "+---------+---------+--------------------+--------+--------------+---------+----------+--------------+\n",
            "only showing top 5 rows\n",
            "\n"
          ]
        }
      ]
    },
    {
      "cell_type": "code",
      "source": [
        "print(\"The data contain %d records.\" % df.count())"
      ],
      "metadata": {
        "colab": {
          "base_uri": "https://localhost:8080/"
        },
        "id": "dOIgSR9LoxWe",
        "outputId": "4f46ab81-78fc-4ccc-debb-99967a302486"
      },
      "id": "dOIgSR9LoxWe",
      "execution_count": null,
      "outputs": [
        {
          "output_type": "stream",
          "name": "stdout",
          "text": [
            "The data contain 541909 records.\n"
          ]
        }
      ]
    },
    {
      "cell_type": "code",
      "source": [
        "df.printSchema()"
      ],
      "metadata": {
        "colab": {
          "base_uri": "https://localhost:8080/"
        },
        "id": "KglYu21fo6Yu",
        "outputId": "30b792ba-0b7e-40e0-be00-cbf721ed1400"
      },
      "id": "KglYu21fo6Yu",
      "execution_count": null,
      "outputs": [
        {
          "output_type": "stream",
          "name": "stdout",
          "text": [
            "root\n",
            " |-- InvoiceNo: string (nullable = true)\n",
            " |-- StockCode: string (nullable = true)\n",
            " |-- Description: string (nullable = true)\n",
            " |-- Quantity: integer (nullable = true)\n",
            " |-- InvoiceDate: string (nullable = true)\n",
            " |-- UnitPrice: double (nullable = true)\n",
            " |-- CustomerID: integer (nullable = true)\n",
            " |-- Country: string (nullable = true)\n",
            "\n"
          ]
        }
      ]
    },
    {
      "cell_type": "code",
      "source": [
        "df.describe().show()"
      ],
      "metadata": {
        "colab": {
          "base_uri": "https://localhost:8080/"
        },
        "id": "Sz6LRPppo-7n",
        "outputId": "aa506a98-d4fb-456f-a3f5-583c3f47115e"
      },
      "id": "Sz6LRPppo-7n",
      "execution_count": null,
      "outputs": [
        {
          "output_type": "stream",
          "name": "stdout",
          "text": [
            "+-------+------------------+------------------+--------------------+------------------+---------------+-----------------+------------------+-----------+\n",
            "|summary|         InvoiceNo|         StockCode|         Description|          Quantity|    InvoiceDate|        UnitPrice|        CustomerID|    Country|\n",
            "+-------+------------------+------------------+--------------------+------------------+---------------+-----------------+------------------+-----------+\n",
            "|  count|            541909|            541909|              540455|            541909|         541909|           541909|            406829|     541909|\n",
            "|   mean|  559965.752026781|27623.240210938104|             20713.0|  9.55224954743324|           NULL|4.611113626082972|15287.690570239585|       NULL|\n",
            "| stddev|13428.417280800133| 16799.73762842775|                NULL|218.08115785023486|           NULL| 96.7598530611797| 1713.600303321594|       NULL|\n",
            "|    min|            536365|             10002| 4 PURPLE FLOCK D...|            -80995|1/10/2011 10:04|        -11062.06|             12346|  Australia|\n",
            "|    max|           C581569|                 m|   wrongly sold sets|             80995|  9/9/2011 9:52|          38970.0|             18287|Unspecified|\n",
            "+-------+------------------+------------------+--------------------+------------------+---------------+-----------------+------------------+-----------+\n",
            "\n"
          ]
        }
      ]
    },
    {
      "cell_type": "markdown",
      "source": [
        "# CLEANING DATA"
      ],
      "metadata": {
        "id": "TSjLeWo7pKq-"
      },
      "id": "TSjLeWo7pKq-"
    },
    {
      "cell_type": "code",
      "source": [
        "#delete the line with the blank customer code\n",
        "df = df.dropna(subset=['CustomerID'])"
      ],
      "metadata": {
        "id": "9zeDiA7UpOZv"
      },
      "id": "9zeDiA7UpOZv",
      "execution_count": 6,
      "outputs": []
    },
    {
      "cell_type": "code",
      "source": [
        "#Delete the canceled invoice line\n",
        "df = df.filter((col('UnitPrice') > 0) & (col('Quantity') > 0))"
      ],
      "metadata": {
        "id": "oY9ylk_HugK6"
      },
      "id": "oY9ylk_HugK6",
      "execution_count": 7,
      "outputs": []
    },
    {
      "cell_type": "code",
      "source": [
        "spark.conf.set(\"spark.sql.legacy.timeParserPolicy\", \"LEGACY\")\n",
        "df = df.withColumn('InvoiceDate', to_timestamp(col('InvoiceDate'), 'MM/dd/yyyy H:mm'))"
      ],
      "metadata": {
        "id": "eJ6snkzewhdv"
      },
      "id": "eJ6snkzewhdv",
      "execution_count": 8,
      "outputs": []
    },
    {
      "cell_type": "code",
      "source": [
        "print(\"After cleaning data , The data contain %d records.\" % df.count())"
      ],
      "metadata": {
        "colab": {
          "base_uri": "https://localhost:8080/"
        },
        "id": "2pCDVGfCya4t",
        "outputId": "05f82891-6301-4b28-93f9-380f560bfa8d"
      },
      "id": "2pCDVGfCya4t",
      "execution_count": 9,
      "outputs": [
        {
          "output_type": "stream",
          "name": "stdout",
          "text": [
            "After cleaning data , The data contain 397884 records.\n"
          ]
        }
      ]
    },
    {
      "cell_type": "code",
      "source": [
        "df = df.withColumn('Year', year(col('InvoiceDate')))\n",
        "df = df.withColumn('Month', month(col('InvoiceDate')))\n",
        "df = df.withColumn('Day', dayofmonth(col('InvoiceDate')))\n",
        "df = df.withColumn('Week', weekofyear(col('InvoiceDate')))\n",
        "df = df.withColumn('DayOfWeek', dayofweek(col('InvoiceDate')))"
      ],
      "metadata": {
        "id": "A3k5o_4BxhCk"
      },
      "id": "A3k5o_4BxhCk",
      "execution_count": 10,
      "outputs": []
    },
    {
      "cell_type": "code",
      "source": [
        "df = df.withColumn('Revenue',round(df.Quantity * df.UnitPrice, 0))"
      ],
      "metadata": {
        "id": "VRA5hpu2q5Of"
      },
      "id": "VRA5hpu2q5Of",
      "execution_count": 11,
      "outputs": []
    },
    {
      "cell_type": "code",
      "source": [
        "df.printSchema()"
      ],
      "metadata": {
        "colab": {
          "base_uri": "https://localhost:8080/"
        },
        "id": "D-sUq7gQrAEH",
        "outputId": "b7002283-8fe8-4f0e-82ab-f04317e13081"
      },
      "id": "D-sUq7gQrAEH",
      "execution_count": null,
      "outputs": [
        {
          "output_type": "stream",
          "name": "stdout",
          "text": [
            "root\n",
            " |-- InvoiceNo: string (nullable = true)\n",
            " |-- StockCode: string (nullable = true)\n",
            " |-- Description: string (nullable = true)\n",
            " |-- Quantity: integer (nullable = true)\n",
            " |-- InvoiceDate: timestamp (nullable = true)\n",
            " |-- UnitPrice: double (nullable = true)\n",
            " |-- CustomerID: integer (nullable = true)\n",
            " |-- Country: string (nullable = true)\n",
            " |-- Year: integer (nullable = true)\n",
            " |-- Month: integer (nullable = true)\n",
            " |-- Day: integer (nullable = true)\n",
            " |-- Week: integer (nullable = true)\n",
            " |-- DayOfWeek: integer (nullable = true)\n",
            " |-- Revenue: double (nullable = true)\n",
            "\n"
          ]
        }
      ]
    },
    {
      "cell_type": "code",
      "source": [
        "df.describe().show()"
      ],
      "metadata": {
        "colab": {
          "base_uri": "https://localhost:8080/"
        },
        "outputId": "5fc807ed-b9e8-4510-e237-520f6a9188ba",
        "id": "BvQdW4qPq2HD"
      },
      "execution_count": 12,
      "outputs": [
        {
          "output_type": "stream",
          "name": "stdout",
          "text": [
            "+-------+------------------+------------------+--------------------+------------------+------------------+------------------+-----------+------------------+------------------+------------------+------------------+------------------+------------------+\n",
            "|summary|         InvoiceNo|         StockCode|         Description|          Quantity|         UnitPrice|        CustomerID|    Country|              Year|             Month|               Day|              Week|         DayOfWeek|           Revenue|\n",
            "+-------+------------------+------------------+--------------------+------------------+------------------+------------------+-----------+------------------+------------------+------------------+------------------+------------------+------------------+\n",
            "|  count|            397884|            397884|              397884|            397884|            397884|            397884|     397884|            397884|            397884|            397884|            397884|            397884|            397884|\n",
            "|   mean| 560616.9344507444|27420.411850034085|                NULL|12.988237777844798|3.1164877552256924|15294.423452564064|       NULL|2010.9342597339928|7.6124749927114435|15.042185662152788|30.964361472187875|3.5101763328005147|22.471205175377747|\n",
            "| stddev|13106.117772965004|16391.025997723686|                NULL|179.33177496319996|22.097876630867948| 1713.141560439856|       NULL|0.2478278390230771|3.4165195836430757| 8.653746499064983|14.755843202543273|1.6588393885425845| 309.0709213577996|\n",
            "|    min|            536365|             10002| 4 PURPLE FLOCK D...|                 1|             0.001|             12346|  Australia|              2010|                 1|                 1|                 1|                 1|               0.0|\n",
            "|    max|            581587|              POST|ZINC WIRE SWEETHE...|             80995|           8142.75|             18287|Unspecified|              2011|                12|                31|                51|                 6|          168470.0|\n",
            "+-------+------------------+------------------+--------------------+------------------+------------------+------------------+-----------+------------------+------------------+------------------+------------------+------------------+------------------+\n",
            "\n"
          ]
        }
      ],
      "id": "BvQdW4qPq2HD"
    },
    {
      "cell_type": "code",
      "source": [
        "#cleaning outlier\n",
        "column_Quantity = df.select(\"Quantity\").toPandas()\n",
        "Q25 = column_Quantity.quantile(0.25)\n",
        "Q75 = column_Quantity.quantile(0.75)\n",
        "IQR = Q75 - Q25\n",
        "upper_limit = Q75 + 1.5*IQR\n",
        "lower_limit = Q25 - 1.5*IQR"
      ],
      "metadata": {
        "id": "xfpcOAywrWmB"
      },
      "id": "xfpcOAywrWmB",
      "execution_count": 13,
      "outputs": []
    },
    {
      "cell_type": "code",
      "source": [
        "print(upper_limit[0])\n",
        "print(lower_limit[0])"
      ],
      "metadata": {
        "colab": {
          "base_uri": "https://localhost:8080/"
        },
        "id": "pm9Tq8dhsxjj",
        "outputId": "1e091b32-991d-4937-876f-4da2576a4d9c"
      },
      "id": "pm9Tq8dhsxjj",
      "execution_count": 14,
      "outputs": [
        {
          "output_type": "stream",
          "name": "stdout",
          "text": [
            "27.0\n",
            "-13.0\n"
          ]
        }
      ]
    },
    {
      "cell_type": "code",
      "source": [
        "df = df.filter((col('Quantity') > lower_limit[0]) & (col('Quantity') < upper_limit[0]))"
      ],
      "metadata": {
        "id": "QpFKBjgOshxw"
      },
      "id": "QpFKBjgOshxw",
      "execution_count": 15,
      "outputs": []
    },
    {
      "cell_type": "code",
      "source": [
        "df.describe().show()"
      ],
      "metadata": {
        "colab": {
          "base_uri": "https://localhost:8080/"
        },
        "id": "1NhQjWEgtcUY",
        "outputId": "d66ba6f2-d94a-4874-f6af-be9ac3179130"
      },
      "id": "1NhQjWEgtcUY",
      "execution_count": 16,
      "outputs": [
        {
          "output_type": "stream",
          "name": "stdout",
          "text": [
            "+-------+------------------+------------------+--------------------+-----------------+------------------+------------------+-----------+------------------+------------------+----------------+------------------+------------------+------------------+\n",
            "|summary|         InvoiceNo|         StockCode|         Description|         Quantity|         UnitPrice|        CustomerID|    Country|              Year|             Month|             Day|              Week|         DayOfWeek|           Revenue|\n",
            "+-------+------------------+------------------+--------------------+-----------------+------------------+------------------+-----------+------------------+------------------+----------------+------------------+------------------+------------------+\n",
            "|  count|            372190|            372190|              372190|           372190|            372190|            372190|     372190|            372190|            372190|          372190|            372190|            372190|            372190|\n",
            "|   mean| 560659.2206292485|27238.547287255435|                NULL|7.027459093473763| 3.228681759317402|15309.590365136086|       NULL|2010.9342969988447| 7.622233267954539|15.0451543566458|31.004863107552595|3.4908863752384534|14.441876460947366|\n",
            "| stddev|13129.096893267508|16075.758643462994|                NULL|6.658201080912118|22.815667052197938|1711.5916200304207|       NULL|0.2477625511042065|3.4192399105884217|8.66108888998436|14.767999539436724|1.6670456674885454|28.064995483931273|\n",
            "|    min|            536365|             10002| 4 PURPLE FLOCK D...|                1|             0.001|             12347|  Australia|              2010|                 1|               1|                 1|                 1|               0.0|\n",
            "|    max|            581587|              POST|ZINC WIRE SWEETHE...|               26|           8142.75|             18287|Unspecified|              2011|                12|              31|                51|                 6|            8143.0|\n",
            "+-------+------------------+------------------+--------------------+-----------------+------------------+------------------+-----------+------------------+------------------+----------------+------------------+------------------+------------------+\n",
            "\n"
          ]
        }
      ]
    },
    {
      "cell_type": "markdown",
      "source": [
        "# PINELINE"
      ],
      "metadata": {
        "id": "2LJDX5HZzHy1"
      },
      "id": "2LJDX5HZzHy1"
    },
    {
      "cell_type": "code",
      "source": [
        "df.printSchema()"
      ],
      "metadata": {
        "colab": {
          "base_uri": "https://localhost:8080/"
        },
        "id": "KT0_q_oUt6sQ",
        "outputId": "fb409be8-3b39-4c28-e153-4006f7899c8d"
      },
      "id": "KT0_q_oUt6sQ",
      "execution_count": 17,
      "outputs": [
        {
          "output_type": "stream",
          "name": "stdout",
          "text": [
            "root\n",
            " |-- InvoiceNo: string (nullable = true)\n",
            " |-- StockCode: string (nullable = true)\n",
            " |-- Description: string (nullable = true)\n",
            " |-- Quantity: integer (nullable = true)\n",
            " |-- InvoiceDate: timestamp (nullable = true)\n",
            " |-- UnitPrice: double (nullable = true)\n",
            " |-- CustomerID: integer (nullable = true)\n",
            " |-- Country: string (nullable = true)\n",
            " |-- Year: integer (nullable = true)\n",
            " |-- Month: integer (nullable = true)\n",
            " |-- Day: integer (nullable = true)\n",
            " |-- Week: integer (nullable = true)\n",
            " |-- DayOfWeek: integer (nullable = true)\n",
            " |-- Revenue: double (nullable = true)\n",
            "\n"
          ]
        }
      ]
    },
    {
      "cell_type": "code",
      "source": [
        "# StringIndexer for column 'Country' và 'StockCode'\n",
        "indexer = StringIndexer(inputCols=[\"Country\", \"StockCode\"], outputCols=[\"CountryIndex\", \"StockCodeIndex\"], handleInvalid=\"keep\")\n",
        "\n",
        "# OneHotEncoder : 'CountryIndex' và 'StockCodeIndex'\n",
        "encoder = OneHotEncoder(inputCols=[\"CountryIndex\", \"StockCodeIndex\"], outputCols=[\"CountryVec\", \"StockCodeVec\"])\n",
        "\n",
        "# Assembling all feature columns\n",
        "assembler = VectorAssembler(inputCols=[\"CountryVec\", \"StockCodeVec\"], outputCol=\"features\")\n",
        "\n",
        "# Defining the linear regression model to predict 'Quantity'\n",
        "lr = LinearRegression(labelCol=\"Quantity\", featuresCol=\"features\")\n",
        "\n",
        "# Creating a pipeline with all the above stages\n",
        "pipeline = Pipeline(stages=[indexer, encoder, assembler,lr])\n",
        "\n",
        "# Split training and testing data by date \"2011-09-25\"\n",
        "split_date = \"2011-09-25\"\n",
        "\n",
        "# Convert the split date string to a timestamp\n",
        "split_timestamp = to_timestamp(lit(split_date))\n",
        "\n",
        "# Use the timestamp for splitting the data\n",
        "train_data = df.filter(col(\"InvoiceDate\") <= split_timestamp)\n",
        "test_data = df.filter(col(\"InvoiceDate\") > split_timestamp)\n",
        "\n",
        "# Return a pandas DataFrame, pd_daily_train_data, containing, at least, the columns \"Country\", \"StockCode\", \"InvoiceDate\", \"Quantity\".\n",
        "pd_daily_train_data = train_data.select(\"Country\", \"StockCode\", \"InvoiceDate\", \"Quantity\").toPandas()\n",
        "\n",
        "# Training the pipeline on the training data\n",
        "model = pipeline.fit(train_data)\n",
        "\n",
        "# Using the trained model to make predictions on the test data\n",
        "predictions = model.transform(test_data)\n",
        "\n",
        "# Evaluating the model's performance\n",
        "evaluator = RegressionEvaluator(labelCol=\"Quantity\", predictionCol=\"prediction\", metricName=\"mae\")\n",
        "mae = evaluator.evaluate(predictions)\n",
        "\n",
        "print(f\" Mean Absolute Error on test data = {mae}\")\n",
        "\n",
        "\n",
        "# Calculate expected quantity sold in week 39 of 2011\n",
        "week_39_data = test_data.filter(col(\"Week\") == 39)\n",
        "quantity_sold_w39 = week_39_data.select(sum(\"Quantity\").alias(\"TotalQuantity\")).collect()[0][\"TotalQuantity\"]\n",
        "print(\"The number of units sold in week 39 of 2011 was : \",quantity_sold_w39)\n",
        "\n",
        "#Predicted results from the model compared to reality\n",
        "predictions.select(\"prediction\", \"Quantity\").show(30)"
      ],
      "metadata": {
        "id": "Hy4m8Q2l7Aft",
        "colab": {
          "base_uri": "https://localhost:8080/"
        },
        "outputId": "e69b7d01-ffe8-418c-8a1d-e741a3cec74b"
      },
      "id": "Hy4m8Q2l7Aft",
      "execution_count": 20,
      "outputs": [
        {
          "output_type": "stream",
          "name": "stdout",
          "text": [
            " Mean Absolute Error on test data = 4.370810383657595\n",
            "The number of units sold in week 39 of 2011 was :  72059\n",
            "+------------------+--------+\n",
            "|        prediction|Quantity|\n",
            "+------------------+--------+\n",
            "| 4.531185844842659|       4|\n",
            "| 4.378096475856258|       6|\n",
            "| 7.192972788785883|       6|\n",
            "| 7.013138005341645|       6|\n",
            "| 7.692358675429518|       3|\n",
            "| 6.714733779486458|       6|\n",
            "| 7.568505154711499|       6|\n",
            "|  7.21757724212274|       6|\n",
            "| 7.476933655347669|       6|\n",
            "|14.068818023695588|      12|\n",
            "|19.164751545227496|      24|\n",
            "| 7.171549818623401|       6|\n",
            "|  5.95119391269419|       2|\n",
            "|  6.25000070584645|       2|\n",
            "|13.742559509428137|      24|\n",
            "| 6.552367185355938|       6|\n",
            "| 6.974411572492822|       6|\n",
            "| 5.182153158253581|       5|\n",
            "| 7.735154100720095|       8|\n",
            "|10.830245112696058|      10|\n",
            "|12.433138508030892|      12|\n",
            "| 6.145297465299245|       5|\n",
            "| 7.281824926890979|       8|\n",
            "|3.1240094638766713|       2|\n",
            "| 7.350108505553226|      12|\n",
            "| 8.010887982094678|      12|\n",
            "| 6.853906098906493|      12|\n",
            "| 5.394390053657414|      12|\n",
            "| 4.209004145690468|      12|\n",
            "| 3.803831472584281|       4|\n",
            "+------------------+--------+\n",
            "only showing top 30 rows\n",
            "\n"
          ]
        }
      ]
    }
  ],
  "metadata": {
    "colab": {
      "provenance": []
    },
    "kernelspec": {
      "display_name": "Python 3 (ipykernel)",
      "language": "python",
      "name": "python3"
    },
    "language_info": {
      "codemirror_mode": {
        "name": "ipython",
        "version": 3
      },
      "file_extension": ".py",
      "mimetype": "text/x-python",
      "name": "python",
      "nbconvert_exporter": "python",
      "pygments_lexer": "ipython3",
      "version": "3.8.10"
    }
  },
  "nbformat": 4,
  "nbformat_minor": 5
}